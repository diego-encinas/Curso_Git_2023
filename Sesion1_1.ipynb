{
  "nbformat": 4,
  "nbformat_minor": 0,
  "metadata": {
    "colab": {
      "provenance": [],
      "authorship_tag": "ABX9TyPk2u09PLFzpk34STOKPtAD",
      "include_colab_link": true
    },
    "kernelspec": {
      "name": "python3",
      "display_name": "Python 3"
    },
    "language_info": {
      "name": "python"
    }
  },
  "cells": [
    {
      "cell_type": "markdown",
      "metadata": {
        "id": "view-in-github",
        "colab_type": "text"
      },
      "source": [
        "<a href=\"https://colab.research.google.com/github/diego-encinas/Curso_Git_2023/blob/main/Sesion1_1.ipynb\" target=\"_parent\"><img src=\"https://colab.research.google.com/assets/colab-badge.svg\" alt=\"Open In Colab\"/></a>"
      ]
    },
    {
      "cell_type": "code",
      "execution_count": 2,
      "metadata": {
        "colab": {
          "base_uri": "https://localhost:8080/"
        },
        "id": "de2WePTUbHlU",
        "outputId": "b2d78a1e-cf0e-45fa-a91d-166268e1e752"
      },
      "outputs": [
        {
          "output_type": "stream",
          "name": "stdout",
          "text": [
            "Empleado Diego Alexander\n",
            "Sueldo Basico es S/. 2400\n"
          ]
        }
      ],
      "source": [
        "empleado=\"Diego Alexander\"\n",
        "horas=40\n",
        "tarifa=60\n",
        "basico=horas*tarifa\n",
        "print('Empleado',empleado)\n",
        "print('Sueldo Basico es S/.',basico)"
      ]
    }
  ]
}